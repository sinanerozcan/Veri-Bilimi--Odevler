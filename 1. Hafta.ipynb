{
 "cells": [
  {
   "cell_type": "code",
   "execution_count": null,
   "id": "839707ff-80f0-4430-908c-c5b0c28fdbf1",
   "metadata": {},
   "outputs": [],
   "source": [
    "Bölüm - 1"
   ]
  },
  {
   "cell_type": "code",
   "execution_count": null,
   "id": "5371ac30-3e9d-45cd-b002-24efecf96387",
   "metadata": {},
   "outputs": [],
   "source": [
    "1. Kullanıcıdan adını, yaşını ve boyunu (float) input() ile alınız. Bu bilgileri uygun veri\n",
    "tiplerinde değişkenlerde saklayınız ve ekrana anlamlı bir şekilde yazdırınız."
   ]
  },
  {
   "cell_type": "code",
   "execution_count": 3,
   "id": "b076ccff-2bcc-4507-b93a-dd2c42cf2ea3",
   "metadata": {},
   "outputs": [
    {
     "name": "stdin",
     "output_type": "stream",
     "text": [
      "Adınız: Sinan\n",
      "Yaşınız: 21\n",
      "Boyunuz: 1.73\n"
     ]
    },
    {
     "name": "stdout",
     "output_type": "stream",
     "text": [
      "Merhaba Sinan, 21 yaşındasın, boyun 1.73 metre.\n"
     ]
    }
   ],
   "source": [
    "#İstenenleri alıyoruz.\n",
    "\n",
    "ad = input(\"Adınız:\")\n",
    "yas = input(\"Yaşınız:\")\n",
    "boy = float(input(\"Boyunuz:\"))\n",
    "\n",
    "print(\"Merhaba {}, {} yaşındasın, boyun {} metre.\".format(ad, yas, boy))"
   ]
  },
  {
   "cell_type": "code",
   "execution_count": null,
   "id": "3afe1a44-b5d1-4641-be8e-a3548222359f",
   "metadata": {},
   "outputs": [],
   "source": [
    "2. Bir öğrencinin notlarını (Matematik, Fizik, Kimya) int tipinde değişkenlere atayın.\n",
    "Ortalamasını float tipinde hesaplayıp ekrana yazdırınız.\n"
   ]
  },
  {
   "cell_type": "code",
   "execution_count": 33,
   "id": "3007a68d-12e0-4d59-b383-0b27b7825fe2",
   "metadata": {},
   "outputs": [
    {
     "name": "stdin",
     "output_type": "stream",
     "text": [
      "Notunuz: 80\n",
      "Notunuz: 70\n",
      "Notunuz: 90\n"
     ]
    },
    {
     "name": "stdout",
     "output_type": "stream",
     "text": [
      "\n",
      "Matematik: 80 \n",
      "Fizik: 70 \n",
      "Kimya: 90\n",
      "Ortalamanız: 80.00\n"
     ]
    }
   ],
   "source": [
    "#İstenenleri alıyoruz.\n",
    "\n",
    "mat =int(input(\"Notunuz:\"))\n",
    "fizik = int(input(\"Notunuz:\"))\n",
    "kimya = int(input(\"Notunuz:\"))\n",
    "\n",
    "ortalama = (mat + fizik + kimya) / 3\n",
    "\n",
    "print(\"\\nMatematik: {} \\nFizik: {} \\nKimya: {}\".format(mat,fizik,kimya))\n",
    "print(\"Ortalamanız: {:.2f}\".format(ortalama))"
   ]
  },
  {
   "cell_type": "code",
   "execution_count": null,
   "id": "972b5e5e-5c3e-4b87-b149-5b18f1b03fcc",
   "metadata": {},
   "outputs": [],
   "source": [
    "3. Bir string değişkeni tanımlayın. Bu stringin ilk ve son karakterini, uzunluğunu ve ters\n",
    "çevrilmiş halini ekrana yazdırınız.\n"
   ]
  },
  {
   "cell_type": "code",
   "execution_count": 19,
   "id": "31d6aa00-2ab9-4a56-bf01-4c87a0572b9d",
   "metadata": {},
   "outputs": [
    {
     "name": "stdout",
     "output_type": "stream",
     "text": [
      "Değişken: eğitim\n",
      "İlk karakter: e\n",
      "Son karakter: m\n",
      "Uzunluk: 6\n",
      "Tersten yazılış: mitiğe\n"
     ]
    }
   ],
   "source": [
    "#Değişkeni tanımlama.\n",
    "\n",
    "degisken = \"eğitim\"\n",
    "\n",
    "##İlk ve son karakter\n",
    "\n",
    "ilk = degisken[0]\n",
    "son = degisken[-1]\n",
    "\n",
    "###Uzunluk ve ters çevrilmiş hali\n",
    "\n",
    "uzunluk = len(degisken)\n",
    "ters = degisken[:: -1]\n",
    "\n",
    "####Yazdırmma\n",
    "\n",
    "print(\"Değişken: {}\".format(degisken))\n",
    "print(\"İlk karakter: {}\".format(ilk))\n",
    "print(\"Son karakter: {}\".format(son))\n",
    "print(\"Uzunluk: {}\".format(uzunluk))\n",
    "print(\"Tersten yazılış: {}\".format(ters))"
   ]
  },
  {
   "cell_type": "code",
   "execution_count": null,
   "id": "cc3f27c2-2ed9-4828-bced-780fd38085b5",
   "metadata": {},
   "outputs": [],
   "source": [
    "Bölüm - 2"
   ]
  },
  {
   "cell_type": "code",
   "execution_count": null,
   "id": "6fbfbff3-9cbc-4e61-ba34-f4af57afe009",
   "metadata": {},
   "outputs": [],
   "source": [
    "4. Kullanıcıdan iki sayı alınız. Bu sayılar üzerinde toplama, çıkarma, çarpma, bölme ve mod\n",
    "işlemleri yapınız."
   ]
  },
  {
   "cell_type": "code",
   "execution_count": 35,
   "id": "56530461-63d6-4029-be1a-33f7ec37b577",
   "metadata": {},
   "outputs": [
    {
     "name": "stdin",
     "output_type": "stream",
     "text": [
      "Sayıyı giriniz: 20\n",
      "Sayıyı giriniz: 10\n"
     ]
    },
    {
     "name": "stdout",
     "output_type": "stream",
     "text": [
      "İşlem Sonuçları: \n",
      " 20 + 10 = 30, \n",
      " 20 - 10 = 10, \n",
      " 20 * 10 = 200, \n",
      " 20 / 10 = 2.0, \n",
      " 20 % 10 = 0\n"
     ]
    }
   ],
   "source": [
    "#Sayıları alıyorum.\n",
    "\n",
    "sayi_1 = int(input(\"Sayıyı giriniz:\"))\n",
    "sayi_2 = int(input(\"Sayıyı giriniz:\"))\n",
    "\n",
    "##İşlemler\n",
    "\n",
    "toplama = sayi_1 + sayi_2\n",
    "cikarma = sayi_1 - sayi_2\n",
    "carpma = sayi_1 * sayi_2\n",
    "bolme = sayi_1 / sayi_2\n",
    "mod = sayi_1 % sayi_2\n",
    "\n",
    "print(\"İşlem Sonuçları: \\n {} + {} = {}, \\n {} - {} = {}, \\n {} * {} = {}, \\n {} / {} = {}, \\n {} % {} = {}\".format(\n",
    "    sayi_1, sayi_2, toplama,\n",
    "    sayi_1, sayi_2, cikarma,\n",
    "    sayi_1, sayi_2, carpma,\n",
    "    sayi_1, sayi_2, bolme,\n",
    "    sayi_1, sayi_2, mod,\n",
    "))"
   ]
  },
  {
   "cell_type": "code",
   "execution_count": null,
   "id": "8ae9a719-ea96-4a14-a235-bdd44f649518",
   "metadata": {},
   "outputs": [],
   "source": [
    "5. Bir öğrencinin ortalaması 50’den büyükse 'Geçti', değilse 'Kaldı' çıktısını veren bir\n",
    "program yazınız. (Karşılaştırma ve mantıksal operatörler kullanılacak.)\n"
   ]
  },
  {
   "cell_type": "code",
   "execution_count": 41,
   "id": "e16f4f40-e937-4b03-8068-8b35f7b4e84a",
   "metadata": {},
   "outputs": [
    {
     "name": "stdin",
     "output_type": "stream",
     "text": [
      "Notunuzu giriniz: 80\n",
      "Notunuzu giriniz: 80\n",
      "Notunuzu giriniz: 80\n"
     ]
    },
    {
     "name": "stdout",
     "output_type": "stream",
     "text": [
      "Dersten geçti. Ortalama: 80.0\n"
     ]
    }
   ],
   "source": [
    "#Notları alıyoruz.\n",
    "\n",
    "vize_1 = int(input(\"Notunuzu giriniz:\")) \n",
    "vize_2 = int(input(\"Notunuzu giriniz:\"))\n",
    "final = int(input(\"Notunuzu giriniz:\"))\n",
    "\n",
    "ortalama = (vize_1 + vize_2 + final) / 3\n",
    "\n",
    "if ortalama >50:\n",
    "    print(\"Dersten geçti. Ortalama: {}\".format(ortalama))\n",
    "\n",
    "else:\n",
    "    print(\"Dersten kaldı. Ortalama: {}\".format(ortalama))"
   ]
  },
  {
   "cell_type": "code",
   "execution_count": null,
   "id": "52228ca0-8c0b-470c-b8e1-4aa83e5e449d",
   "metadata": {},
   "outputs": [],
   "source": [
    "6. Kullanıcıdan yaşını alınız. Eğer yaş 18’den büyükse 'Ehliyet alabilirsiniz', değilse 'Ehliyet\n",
    "alamazsınız' çıktısı veriniz."
   ]
  },
  {
   "cell_type": "code",
   "execution_count": 49,
   "id": "18d764a5-b62f-44e3-9120-265b9bed0096",
   "metadata": {},
   "outputs": [
    {
     "name": "stdin",
     "output_type": "stream",
     "text": [
      "Lütfen yaşınızı giriniz: 21\n"
     ]
    },
    {
     "name": "stdout",
     "output_type": "stream",
     "text": [
      "Yaşınız 18'den büyük, ehliyet alabilirsiniz.\n"
     ]
    }
   ],
   "source": [
    "#Yaş bilgisini alıyoruz.\n",
    "\n",
    "yas = int(input(\"Lütfen yaşınızı giriniz:\"))\n",
    "\n",
    "if yas >= 18:\n",
    "    print(\"Yaşınız 18'den büyük, ehliyet alabilirsiniz.\")\n",
    "\n",
    "else:\n",
    "    print(\"Yaşınız18'den küçük, ehliyet alamazsınız!\")\n",
    "    "
   ]
  },
  {
   "cell_type": "code",
   "execution_count": null,
   "id": "6478937a-479c-4bba-b5fa-88cb931e9daf",
   "metadata": {},
   "outputs": [],
   "source": [
    "7. Bir ürünün fiyatını (float) ve indirim oranını (yüzde) alınız. İndirimli fiyatı hesaplayıp\n",
    "ekrana yazdırınız. (Aritmetik operatörler kullanılacak.)\n"
   ]
  },
  {
   "cell_type": "code",
   "execution_count": 53,
   "id": "c6821ded-a1cc-431b-b701-38c486a1a9fa",
   "metadata": {},
   "outputs": [
    {
     "name": "stdin",
     "output_type": "stream",
     "text": [
      "Lütfen ürün fiyatını girin: 72\n",
      "Lütfen indirim oranını girin (%): 10\n"
     ]
    },
    {
     "name": "stdout",
     "output_type": "stream",
     "text": [
      "Ürünün indirimli fiyatı: 64.8 TL\n"
     ]
    }
   ],
   "source": [
    "#Ürün fiyatı ve indirim oranı bilgisi.\n",
    "\n",
    "fiyat = float(input(\"Lütfen ürün fiyatını girin:\"))\n",
    "indirim_orani = float(input(\"Lütfen indirim oranını girin (%):\"))\n",
    "\n",
    "indirimli_fiyat = fiyat - (fiyat * indirim_orani / 100)\n",
    "\n",
    "print(\"Ürünün indirimli fiyatı: {} TL\".format(indirimli_fiyat))"
   ]
  },
  {
   "cell_type": "code",
   "execution_count": null,
   "id": "42a3c37d-741c-413d-8238-7ae42360394e",
   "metadata": {},
   "outputs": [],
   "source": [
    "8. True ve False değerlerini içeren değişkenlerle mantıksal operatörleri (and, or, not)\n",
    "uygulayarak örnekler yapınız ve sonuçlarını ekrana yazdırınız."
   ]
  },
  {
   "cell_type": "code",
   "execution_count": 55,
   "id": "92e451b0-445f-4cd9-a646-8b90c12203de",
   "metadata": {},
   "outputs": [
    {
     "name": "stdout",
     "output_type": "stream",
     "text": [
      "a and b: False\n",
      "a and True: True\n",
      "b and False: False\n",
      "a or b: True\n",
      "a or False: True\n",
      "b or True: True\n",
      "not a: False\n",
      "not b: True\n"
     ]
    }
   ],
   "source": [
    "#Değişken tamımlama.\n",
    "\n",
    "a = True\n",
    "b = False\n",
    "\n",
    "## and operatörü\n",
    "\n",
    "print(\"a and b:\", a and b)\n",
    "print(\"a and True:\", a and True)\n",
    "print(\"b and False:\", b and False)\n",
    "\n",
    "### or operatörü\n",
    "\n",
    "print(\"a or b:\", a or b)\n",
    "print(\"a or False:\", a or False)\n",
    "print(\"b or True:\", b or True)\n",
    "\n",
    "#### not operatörü\n",
    "\n",
    "print(\"not a:\", not a)\n",
    "print(\"not b:\", not b)"
   ]
  },
  {
   "cell_type": "code",
   "execution_count": null,
   "id": "3090af3f-22d2-4e67-8eb1-41d4977f8e8d",
   "metadata": {},
   "outputs": [],
   "source": [
    "Bölüm 3: Mini Proje"
   ]
  },
  {
   "cell_type": "code",
   "execution_count": null,
   "id": "72e1ff05-491d-42f6-b697-f48fdfd28fd5",
   "metadata": {},
   "outputs": [],
   "source": [
    "9. Küçük bir alışveriş sepeti uygulaması yapınız:\n",
    "- Kullanıcıdan 3 ürünün fiyatını alınız.\n",
    "- Toplam fiyatı hesaplayınız.\n",
    "- Eğer toplam fiyat 200 TL’den fazlaysa %10 indirim uygulayınız.\n",
    "- Son fiyatı ekrana yazdırınız."
   ]
  },
  {
   "cell_type": "code",
   "execution_count": 59,
   "id": "dce36ecb-807f-47ad-ab71-ca9bc96f1444",
   "metadata": {},
   "outputs": [
    {
     "name": "stdin",
     "output_type": "stream",
     "text": [
      "1. ürünün fiyatını giriniz: 100\n",
      "2. ürünün fiyatını giriniz: 150\n",
      "3. ürünün fiyatını giriniz: 200\n"
     ]
    },
    {
     "name": "stdout",
     "output_type": "stream",
     "text": [
      "%10 indirim uygulandı. İndirimli fiyat: 405.0 TL\n"
     ]
    }
   ],
   "source": [
    "# Ürün fiyatları alınır.\n",
    "\n",
    "urun_1 = int(input(\"1. ürünün fiyatını giriniz:\"))\n",
    "urun_2 = int(input(\"2. ürünün fiyatını giriniz:\"))\n",
    "urun_3 = int(input(\"3. ürünün fiyatını giriniz:\"))\n",
    "\n",
    "toplam = urun_1 + urun_2 + urun_3\n",
    "\n",
    "if toplam > 200:\n",
    "    indirimli_fiyat = toplam - (toplam * 0.10)\n",
    "    print(\"%10 indirim uygulandı. İndirimli fiyat: {} TL\".format(indirimli_fiyat))\n",
    "\n",
    "else:\n",
    "    print(\"Sepet tutarı: {} TL\".format(toplam))"
   ]
  },
  {
   "cell_type": "code",
   "execution_count": null,
   "id": "244d4341-992e-4c91-b594-f79cde80614c",
   "metadata": {},
   "outputs": [],
   "source": [
    "10. Kullanıcıdan doğum yılını alınız. Bu yıl ile güncel yılı kullanarak yaşını hesaplayınız.\n",
    "Yaşına göre şu mesajlardan birini veriniz:\n",
    "- 0-12: 'Çocuksunuz'\n",
    "- 13-17: 'Ergensiniz'\n",
    "- 18 ve üzeri: 'Yetişkinsiniz'\n"
   ]
  },
  {
   "cell_type": "code",
   "execution_count": 67,
   "id": "a3553723-f711-4365-9996-c720869e60a4",
   "metadata": {},
   "outputs": [
    {
     "name": "stdin",
     "output_type": "stream",
     "text": [
      "Doğum yılınızı giriniz: 2013\n"
     ]
    },
    {
     "name": "stdout",
     "output_type": "stream",
     "text": [
      "Yaşınız: 12\n",
      "Ergensiniz\n"
     ]
    }
   ],
   "source": [
    "#Kullanıcıdan doğum yılı alınır.\n",
    "guncel_yil = 2025\n",
    "dogum_yili= int(input(\"Doğum yılınızı giriniz:\"))\n",
    "\n",
    "##Yaşı hesaplıyoruz.\n",
    "\n",
    "yas = guncel_yil - dogum_yili\n",
    "\n",
    "print(\"Yaşınız:\",yas)\n",
    "\n",
    "###Yaşa göre alınacak mesajlar.\n",
    "\n",
    "if yas in range (0,12):\n",
    "    print(\"Çocuksunuz\")\n",
    "elif yas in range (12,18):\n",
    "    print(\"Ergensiniz\")\n",
    "elif yas >= 18:\n",
    "    print(\"Yetişkinsiniz\")\n",
    "else:\n",
    "    print(\"Geçersiz giriş!\")"
   ]
  },
  {
   "cell_type": "code",
   "execution_count": null,
   "id": "aceb6be5-182d-43d3-83d7-6fa94469e546",
   "metadata": {},
   "outputs": [],
   "source": []
  }
 ],
 "metadata": {
  "kernelspec": {
   "display_name": "Python [conda env:base] *",
   "language": "python",
   "name": "conda-base-py"
  },
  "language_info": {
   "codemirror_mode": {
    "name": "ipython",
    "version": 3
   },
   "file_extension": ".py",
   "mimetype": "text/x-python",
   "name": "python",
   "nbconvert_exporter": "python",
   "pygments_lexer": "ipython3",
   "version": "3.11.4"
  }
 },
 "nbformat": 4,
 "nbformat_minor": 5
}
