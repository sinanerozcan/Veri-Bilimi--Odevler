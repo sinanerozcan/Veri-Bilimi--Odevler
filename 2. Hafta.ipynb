{
 "cells": [
  {
   "cell_type": "code",
   "execution_count": null,
   "id": "c9e28afb-afe6-46e9-a45f-57bd7c33f0ba",
   "metadata": {},
   "outputs": [],
   "source": [
    "Soru 1 – Sayı Analizi\n",
    "\n",
    "Kullanıcıdan bir sayı isteyin.\n",
    "    \n",
    "• Sayı pozitif, negatif ya da sıfır mı kontrol edin.\n",
    "• Aynı zamanda tek/çift olup olmadığını da belirtin."
   ]
  },
  {
   "cell_type": "code",
   "execution_count": 33,
   "id": "92e6baa7-330b-4c2a-884b-60589c5ab4bc",
   "metadata": {
    "scrolled": true
   },
   "outputs": [
    {
     "name": "stdin",
     "output_type": "stream",
     "text": [
      "Bir sayı giriniz: 2025\n"
     ]
    },
    {
     "name": "stdout",
     "output_type": "stream",
     "text": [
      "Girdiğiniz sayı Pozitif ve Tek'dir\n"
     ]
    }
   ],
   "source": [
    "# Kullanıcıdan sayı alıyoruz.\n",
    "\n",
    "sayi = int(input(\"Bir sayı giriniz:\"))\n",
    "\n",
    "## Pozitif , nefatif ve sıfır kontrolü\n",
    "\n",
    "if sayi > 0:\n",
    "    Pozitiflik = \"Pozitif\"\n",
    "\n",
    "elif sayi < 0:\n",
    "    Pozitiflik = \"Negatif\"\n",
    "\n",
    "else:\n",
    "    Pozitiflik = \"Sayı sıfırdır.\"\n",
    "\n",
    "### Teklik ve çiftlik kontrolü\n",
    "\n",
    "if sayi == 0:\n",
    "    durum = \"\"\n",
    "\n",
    "elif sayi % 2 == 0:\n",
    "    durum = \"Çift\"\n",
    "\n",
    "else:\n",
    "    durum = \"Tek\"\n",
    "\n",
    "print (\"Girdiğiniz sayı {} ve {}'dir\".format(Pozitiflik,durum))"
   ]
  },
  {
   "cell_type": "raw",
   "id": "b0b590ae-17c2-4265-bc21-6ca889bc429a",
   "metadata": {},
   "source": [
    "Soru 2 – Harf Frekansı (String)\n",
    "\n",
    "Kullanıcıdan bir kelime alın.\n",
    "\n",
    "• Hangi harften kaç tane geçtiğini bulun.\n",
    "• Sonucu dictionary olarak gösterin."
   ]
  },
  {
   "cell_type": "code",
   "execution_count": 37,
   "id": "53cf6f71-6d31-426f-b7ac-de025d6bd47e",
   "metadata": {},
   "outputs": [
    {
     "name": "stdin",
     "output_type": "stream",
     "text": [
      "Kelimeyi giriniz: mühendis\n"
     ]
    },
    {
     "name": "stdout",
     "output_type": "stream",
     "text": [
      "{'m': 1, 'ü': 1, 'h': 1, 'e': 1, 'n': 1, 'd': 1, 'i': 1, 's': 1}\n"
     ]
    }
   ],
   "source": [
    "# Kullanıcıdan kelimeyi alıyoruz.\n",
    "\n",
    "kelime = input(\"Kelimeyi giriniz:\")\n",
    "\n",
    "## Harf sayılarını tutacak dictionary.\n",
    "\n",
    "harf_sayilari = {}\n",
    "\n",
    "for harf in kelime:\n",
    "    if harf in harf_sayilari:\n",
    "        harf_sayilari[harf] += 1\n",
    "\n",
    "    else:\n",
    "        harf_sayilari[harf] = 1\n",
    "\n",
    "print(harf_sayilari)"
   ]
  },
  {
   "cell_type": "code",
   "execution_count": null,
   "id": "fd0cb280-340b-4a62-bb1f-6133a7e582e4",
   "metadata": {},
   "outputs": [],
   "source": [
    "Soru 3 – Şifre Kontrolü (String Metotları)\n",
    "\n",
    "Kullanıcıdan şifre girmesini isteyin. Şifre:\n",
    "\n",
    "• En az 8 karakter olmalı\n",
    "• En az 1 büyük harf içermeli\n",
    "• En az 1 rakam içermeli\n",
    "Koşulları sağlayıp sağlamadığına göre kullanıcıyı bilgilendirin"
   ]
  },
  {
   "cell_type": "code",
   "execution_count": 41,
   "id": "2c12c575-2e36-4120-9bbe-6c65b5630c3a",
   "metadata": {},
   "outputs": [
    {
     "name": "stdin",
     "output_type": "stream",
     "text": [
      "Lütfen şifrenizi giriniz: 0225Skss\n"
     ]
    },
    {
     "name": "stdout",
     "output_type": "stream",
     "text": [
      "Şifreniz geçerli:\n"
     ]
    }
   ],
   "source": [
    "# Kullanıcıdan şifreyi alıyoruz.\n",
    "\n",
    "sifre = input (\"Lütfen şifrenizi giriniz:\")\n",
    "\n",
    "## Kontrolleri yazıyoruz.\n",
    "\n",
    "uzunluk = len(sifre) >= 8\n",
    "buyuk_harf = False\n",
    "rakam = False\n",
    "\n",
    "### Karakterleri kontrol ediyoruz.\n",
    "\n",
    "for karakter in sifre:\n",
    "    if karakter.isupper(): #Büyük harf kontrolü.\n",
    "        buyuk_harf = True\n",
    "\n",
    "    if karakter.isdigit(): # Rakam kontrolü.\n",
    "        rakam = True\n",
    "\n",
    "#### Sonuç.\n",
    "\n",
    "if uzunluk and buyuk_harf and rakam:\n",
    "    print(\"Şifreniz geçerli:\")\n",
    "\n",
    "else:\n",
    "    print(\"Şifreniz geçersiz, lütfen yeni bir şifre oluşturunuz.\")\n",
    "    if not uzunluk:\n",
    "        print(\"Şifre minimum 8 karakterden oluşmalı.\")\n",
    "    if not buyuk_harf:\n",
    "        print(\"Şifre büyük harf içermelidir.\")\n",
    "    if not rakam:\n",
    "        print(\"Şifre rakam içermelidir.\")"
   ]
  },
  {
   "cell_type": "code",
   "execution_count": null,
   "id": "ca6e2927-dec1-469f-8666-ac4d37c2156e",
   "metadata": {},
   "outputs": [],
   "source": [
    "Soru 4 – Liste İşlemleri\n",
    "\n",
    "[12, 4, 9, 25, 30, 7, 18] listesini kullanın.\n",
    "    \n",
    "• Listenin ortalamasını bulun.\n",
    "• Ortalamadan büyük sayıları ayrı bir listeye atın"
   ]
  },
  {
   "cell_type": "code",
   "execution_count": 51,
   "id": "3ef655f3-244a-488e-b7b5-9f615d116299",
   "metadata": {},
   "outputs": [
    {
     "name": "stdout",
     "output_type": "stream",
     "text": [
      "Ortalama: 15.0\n",
      "Ortalamadan büyük sayılar: [25, 30, 18]\n"
     ]
    }
   ],
   "source": [
    "#Listeyi tanımlıyoruz.\n",
    "\n",
    "list = [12, 4, 9, 25, 30, 7, 18]\n",
    "\n",
    "## Ortalamayı hesaplıyoruz.\n",
    "\n",
    "ortalama = sum(list)/len(list)\n",
    "print(\"Ortalama:\",ortalama)\n",
    "\n",
    "list1 = []\n",
    "\n",
    "for list in list:\n",
    "    if list > ortalama:\n",
    "        list1.append(list)\n",
    "\n",
    "print(\"Ortalamadan büyük sayılar:\",list1)"
   ]
  },
  {
   "cell_type": "code",
   "execution_count": null,
   "id": "635bf042-b668-4f02-9d82-ea95ba36be81",
   "metadata": {},
   "outputs": [],
   "source": [
    "Soru 5 – Nested Loop (Desen)\n",
    "\n",
    "Aşağıdaki çıktıyı üreten programı yazın (üçgen desen):\n"
   ]
  },
  {
   "cell_type": "code",
   "execution_count": 55,
   "id": "8812c014-1581-46ff-9924-483ef07cd330",
   "metadata": {},
   "outputs": [
    {
     "name": "stdout",
     "output_type": "stream",
     "text": [
      "*\n",
      "**\n",
      "***\n",
      "****\n",
      "*****\n"
     ]
    }
   ],
   "source": [
    "# Satır sayısını tanımlıyoruz.\n",
    "satir = 5\n",
    "\n",
    "for i in range(1 , satir + 1):\n",
    "    print (\"*\" * i)"
   ]
  },
  {
   "cell_type": "code",
   "execution_count": null,
   "id": "9d96e876-d7d1-45da-a733-007d07215f91",
   "metadata": {},
   "outputs": [],
   "source": [
    "Soru 6 – While Döngüsü\n",
    "\n",
    "Kullanıcıdan sürekli sayı isteyin.\n",
    "    \n",
    "• Kullanıcı 0 girdiğinde program dursun.\n",
    "• Girilen tüm sayıların toplamını ve ortalamasını yazdırın."
   ]
  },
  {
   "cell_type": "code",
   "execution_count": 61,
   "id": "905eb6b8-6a30-4ac5-9e7f-79ff2eb6d981",
   "metadata": {},
   "outputs": [
    {
     "name": "stdin",
     "output_type": "stream",
     "text": [
      "Lütfen sayı giriniz: 12\n",
      "Lütfen sayı giriniz: 13\n",
      "Lütfen sayı giriniz: 14\n",
      "Lütfen sayı giriniz: 15\n",
      "Lütfen sayı giriniz: 16\n",
      "Lütfen sayı giriniz: 0\n"
     ]
    },
    {
     "name": "stdout",
     "output_type": "stream",
     "text": [
      "Toplam: 70\n",
      "Ortalama: 14.0\n"
     ]
    }
   ],
   "source": [
    "# Toplam ve sayacı oluşturuyoruz.\n",
    "\n",
    "toplam = 0\n",
    "sayac = 0 \n",
    "\n",
    "while True:\n",
    "    sayi = int(input(\"Lütfen sayı giriniz:\"))\n",
    "\n",
    "    if sayi == 0:\n",
    "        break\n",
    "\n",
    "    toplam += sayi\n",
    "    sayac += 1\n",
    "\n",
    "## Ortalama hesaplama.\n",
    "\n",
    "if sayac > 0:\n",
    "    ortalama = toplam/sayac\n",
    "    print(\"Toplam:\",toplam)\n",
    "    print(\"Ortalama:\",ortalama)\n",
    "\n",
    "else:\n",
    "    print(\"Sayı girilmedi.\")"
   ]
  },
  {
   "cell_type": "code",
   "execution_count": null,
   "id": "e599634b-9ba1-4219-b02d-a2ce86bb0121",
   "metadata": {},
   "outputs": [],
   "source": [
    "Soru 7 – Palindrom Kontrolü\n",
    "\n",
    "Kullanıcıdan bir kelime isteyin.\n",
    "    \n",
    "• Kelimenin palindrom olup olmadığını kontrol edin.\n",
    "• Örnek: \"kayak\" → Palindrom , \"python\" → Değil "
   ]
  },
  {
   "cell_type": "code",
   "execution_count": 69,
   "id": "a80c5ca6-164c-43fb-874d-7a118950d9c2",
   "metadata": {},
   "outputs": [
    {
     "name": "stdin",
     "output_type": "stream",
     "text": [
      "Lütfen kelimeyi giriniz: Fincan\n"
     ]
    },
    {
     "name": "stdout",
     "output_type": "stream",
     "text": [
      "Palindrom değil.\n"
     ]
    }
   ],
   "source": [
    "# Kullanıcıdan kelimeyi alıyoruz.\n",
    "\n",
    "kelime = input(\"Lütfen kelimeyi giriniz:\")\n",
    "\n",
    "## Büyük küçük harf uyuşmazlığını kaldırmak için kelimeyi tamamiyle küçük harfe çeviriyoruz.\n",
    "\n",
    "kelime = kelime.lower()\n",
    "\n",
    "### Kelimeyi tersten yazdırıyoruz.\n",
    "\n",
    "tersten = kelime [:: -1]\n",
    "\n",
    "#### Sonuç.\n",
    "\n",
    "if kelime == tersten:\n",
    "    print(\"Kelime palindromdur.\")\n",
    "\n",
    "else:\n",
    "    print(\"Palindrom değil.\")"
   ]
  },
  {
   "cell_type": "code",
   "execution_count": null,
   "id": "5b52f942-e070-4f94-a3eb-21eaa60fe6e9",
   "metadata": {},
   "outputs": [],
   "source": [
    "Soru 8 – List Comprehension\n",
    "\n",
    "1’den 100’e kadar olan sayılardan:\n",
    "\n",
    "• Hem 3’e hem 5’e bölünebilenlerin karelerini içeren bir liste oluşturun.\n",
    "• Sonucu ekrana yazdırın."
   ]
  },
  {
   "cell_type": "code",
   "execution_count": 75,
   "id": "5fc71ce0-0aa8-4ca7-9f58-e0d3277941e9",
   "metadata": {},
   "outputs": [
    {
     "name": "stdout",
     "output_type": "stream",
     "text": [
      "[225, 900, 2025, 3600, 5625, 8100]\n"
     ]
    }
   ],
   "source": [
    "# Listeyi tanımlıyoruz.\n",
    "\n",
    "kareler = []\n",
    "\n",
    "for i in range (1, 101):\n",
    "    if i % 3 == 0 and i % 5 == 0:\n",
    "        kareler.append(i ** 2)\n",
    "\n",
    "print(kareler)"
   ]
  },
  {
   "cell_type": "code",
   "execution_count": null,
   "id": "7d52d46b-5cab-4af2-b339-229b0dadbf7c",
   "metadata": {},
   "outputs": [],
   "source": [
    "Soru 9 – String İşlemleri\n",
    "\n",
    "Bir cümle alın.\n",
    "    \n",
    "• Cümledeki kelimeleri split() ile ayırın.\n",
    "• Her kelimenin ilk harfini büyük yaparak yeni bir string oluşturun.\n",
    "• Örnek: \"python veri bilimi\" → \"Python Veri Bilimi\"\n"
   ]
  },
  {
   "cell_type": "code",
   "execution_count": 101,
   "id": "244dca8f-ca4b-49f6-b8a9-884679821366",
   "metadata": {},
   "outputs": [
    {
     "name": "stdin",
     "output_type": "stream",
     "text": [
      "Lütfen cümleyi giriniz: Oldu gibi?!\n"
     ]
    },
    {
     "name": "stdout",
     "output_type": "stream",
     "text": [
      "Oldu Gibi?!\n"
     ]
    }
   ],
   "source": [
    "# Cümleyi alıyoruz.\n",
    "\n",
    "cumle = input(\"Lütfen cümleyi giriniz:\")\n",
    "\n",
    "##Kelimeleri ayırıyoruz.\n",
    "\n",
    "kelimeler = cumle.split()\n",
    "\n",
    "### Kelimelerin ilk harfini büyütüyoruz.\n",
    "yeni_k = []\n",
    "\n",
    "for kelimem in kelimeler:\n",
    "    yeni_k.append(kelimem.title())\n",
    "\n",
    "#### Listeyi tekrar cümle haline getiriyoruz.\n",
    "yeni_cumle = \" \".join(yeni_k)\n",
    "\n",
    "print(yeni_cumle)"
   ]
  },
  {
   "cell_type": "code",
   "execution_count": null,
   "id": "f2ab7b3f-91e8-4557-a228-6609d2581c5b",
   "metadata": {},
   "outputs": [],
   "source": [
    "Mini Proje – Film Yorumu Analizi\n",
    "\n",
    "Proje Tanımı:\n",
    "\n",
    "Kullanıcıdan birkaç film yorumu alın (örneğin 5–6 yorum).\n",
    "- Yorumları bir listeye atın.\n",
    "- Her yorumun uzunluğunu (karakter sayısı) bulun.\n",
    "- Kaç yorumda \"iyi\" kelimesi geçtiğini sayın.\n",
    "- En uzun yorumu ve en kısa yorumu ekrana yazdırın.\n",
    "- Tüm yorumların ortalama uzunluğunu hesaplayın.\n",
    "\n",
    ":Beklenen Çıktı Örneği\n",
    "Girdi (yorumlar):\n",
    "[\"Film çok güzeldi\", \"Kötüydü\", \"Ortalama bir filmdi\", \"Gerçekten çok iyi!\", \"İyi ama daha iyi\n",
    "olabilirdi\"]\n",
    "Çıktı:\n",
    "Toplam yorum sayısı: 5\n",
    "\"iyi\" geçen yorum sayısı: 2\n",
    "En uzun yorum: İyi ama daha iyi olabilirdi\n",
    "En kısa yorum: Kötüydü\n",
    "Ortalama uzunluk: 17.4 karakter"
   ]
  },
  {
   "cell_type": "code",
   "execution_count": 107,
   "id": "0446aed8-e607-4bf2-a0a4-e57fca5e56eb",
   "metadata": {},
   "outputs": [
    {
     "name": "stdin",
     "output_type": "stream",
     "text": [
      " 1.yorum giriniz: ortalama bir filmdi\n",
      " 2.yorum giriniz: iyi ya da kötü denemez vasat bir örnek\n",
      " 3.yorum giriniz: tür içinde iyi bir noktaya yerleştirilebilir\n",
      " 4.yorum giriniz: iyi denilebilir ama derinlik bakımından yetersiz bir örnek\n",
      " 5.yorum giriniz: türünün iyi örneklerinden\n"
     ]
    },
    {
     "name": "stdout",
     "output_type": "stream",
     "text": [
      "Yorum uzunluğu: 5\n",
      "İyi yorum sayısı: 4\n",
      "En uzun yorum: iyi denilebilir ama derinlik bakımından yetersiz bir örnek\n",
      "En kısa yorum: ortalama bir filmdi\n",
      "Ortalama uzunluk: 36.8 karakter\n"
     ]
    }
   ],
   "source": [
    "#Kullanıcıdan yorumları alıyorum.\n",
    "\n",
    "yorumlar = []\n",
    "\n",
    "for i in range (5):\n",
    "    yorum = input(f\" {i + 1}.yorum giriniz:\")\n",
    "    yorumlar.append(yorum)\n",
    "\n",
    "print(\"Yorum uzunluğu:\",len(yorumlar))\n",
    "\n",
    "## İyi kelimesi\n",
    "\n",
    "iyi_sayaci = 0\n",
    "\n",
    "for yorum in yorumlar:\n",
    "    if \"iyi\" in yorum.lower(): # Büyük - küçük harf farkını önlemek için.\n",
    "        iyi_sayaci += 1\n",
    "\n",
    "print (\"İyi yorum sayısı:\", iyi_sayaci)\n",
    "\n",
    "### En uzun ve en kısa yorumlar.\n",
    "\n",
    "uzun = max(yorumlar, key = len)\n",
    "kısa = min(yorumlar, key = len)\n",
    "\n",
    "print(\"En uzun yorum:\", uzun)\n",
    "print(\"En kısa yorum:\", kısa)\n",
    "\n",
    "#### Ortalama uzunluğu hesaplama\n",
    "toplam = 0\n",
    "\n",
    "for yorum in yorumlar:\n",
    "    toplam += len(yorum)\n",
    "\n",
    "ortalama = toplam / len(yorumlar)\n",
    "\n",
    "print(\"Ortalama uzunluk:\", round (ortalama, 1), \"karakter\")"
   ]
  },
  {
   "cell_type": "code",
   "execution_count": null,
   "id": "03a431cc-44ad-4d78-9759-d826e221bb54",
   "metadata": {},
   "outputs": [],
   "source": []
  }
 ],
 "metadata": {
  "kernelspec": {
   "display_name": "Python [conda env:base] *",
   "language": "python",
   "name": "conda-base-py"
  },
  "language_info": {
   "codemirror_mode": {
    "name": "ipython",
    "version": 3
   },
   "file_extension": ".py",
   "mimetype": "text/x-python",
   "name": "python",
   "nbconvert_exporter": "python",
   "pygments_lexer": "ipython3",
   "version": "3.11.4"
  }
 },
 "nbformat": 4,
 "nbformat_minor": 5
}
